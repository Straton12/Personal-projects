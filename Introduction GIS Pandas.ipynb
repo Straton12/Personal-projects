{
 "cells": [
  {
   "cell_type": "code",
   "execution_count": 1,
   "id": "773f6768",
   "metadata": {},
   "outputs": [],
   "source": [
    "#importing the libraries\n",
    "import geopandas as gpd\n",
    "import matplotlib.pyplot as plt\n",
    "import pandas as pd"
   ]
  },
  {
   "cell_type": "code",
   "execution_count": 2,
   "id": "9270afb8",
   "metadata": {},
   "outputs": [
    {
     "data": {
      "text/html": [
       "<div>\n",
       "<style scoped>\n",
       "    .dataframe tbody tr th:only-of-type {\n",
       "        vertical-align: middle;\n",
       "    }\n",
       "\n",
       "    .dataframe tbody tr th {\n",
       "        vertical-align: top;\n",
       "    }\n",
       "\n",
       "    .dataframe thead th {\n",
       "        text-align: right;\n",
       "    }\n",
       "</style>\n",
       "<table border=\"1\" class=\"dataframe\">\n",
       "  <thead>\n",
       "    <tr style=\"text-align: right;\">\n",
       "      <th></th>\n",
       "      <th>Name</th>\n",
       "      <th>Capacity</th>\n",
       "      <th>Structure</th>\n",
       "      <th>Use</th>\n",
       "      <th>No_floors</th>\n",
       "      <th>Rooms</th>\n",
       "      <th>Stracture</th>\n",
       "      <th>Fild_id</th>\n",
       "      <th>ff</th>\n",
       "      <th>Area_km2</th>\n",
       "      <th>geometry</th>\n",
       "    </tr>\n",
       "  </thead>\n",
       "  <tbody>\n",
       "    <tr>\n",
       "      <th>0</th>\n",
       "      <td>New tution block</td>\n",
       "      <td>None</td>\n",
       "      <td>Permanent</td>\n",
       "      <td>Lecture Hall</td>\n",
       "      <td>4</td>\n",
       "      <td>0</td>\n",
       "      <td>None</td>\n",
       "      <td>1</td>\n",
       "      <td>5.0</td>\n",
       "      <td>None</td>\n",
       "      <td>POLYGON ((34.60320 -0.00584, 34.60339 -0.00591...</td>\n",
       "    </tr>\n",
       "    <tr>\n",
       "      <th>1</th>\n",
       "      <td>Graduation  Shed</td>\n",
       "      <td>None</td>\n",
       "      <td>Permanent</td>\n",
       "      <td>Graduation Area</td>\n",
       "      <td>0</td>\n",
       "      <td>0</td>\n",
       "      <td>None</td>\n",
       "      <td>2</td>\n",
       "      <td>1.0</td>\n",
       "      <td>None</td>\n",
       "      <td>POLYGON ((34.60822 -0.00355, 34.60804 -0.00360...</td>\n",
       "    </tr>\n",
       "    <tr>\n",
       "      <th>2</th>\n",
       "      <td>Washrooms</td>\n",
       "      <td>None</td>\n",
       "      <td>Permanent</td>\n",
       "      <td>Toilets</td>\n",
       "      <td>0</td>\n",
       "      <td>4</td>\n",
       "      <td>None</td>\n",
       "      <td>3</td>\n",
       "      <td>1.0</td>\n",
       "      <td>None</td>\n",
       "      <td>POLYGON ((34.60821 -0.00367, 34.60809 -0.00370...</td>\n",
       "    </tr>\n",
       "    <tr>\n",
       "      <th>3</th>\n",
       "      <td>Shool of Education</td>\n",
       "      <td>None</td>\n",
       "      <td>Permanent</td>\n",
       "      <td>Offices</td>\n",
       "      <td>0</td>\n",
       "      <td>5</td>\n",
       "      <td>None</td>\n",
       "      <td>4</td>\n",
       "      <td>1.0</td>\n",
       "      <td>None</td>\n",
       "      <td>POLYGON ((34.60853 -0.00267, 34.60834 -0.00272...</td>\n",
       "    </tr>\n",
       "    <tr>\n",
       "      <th>4</th>\n",
       "      <td>None</td>\n",
       "      <td>None</td>\n",
       "      <td>None</td>\n",
       "      <td>None</td>\n",
       "      <td>None</td>\n",
       "      <td>0</td>\n",
       "      <td>None</td>\n",
       "      <td>5</td>\n",
       "      <td>1.0</td>\n",
       "      <td>None</td>\n",
       "      <td>POLYGON ((34.61018 -0.00212, 34.61017 -0.00228...</td>\n",
       "    </tr>\n",
       "    <tr>\n",
       "      <th>...</th>\n",
       "      <td>...</td>\n",
       "      <td>...</td>\n",
       "      <td>...</td>\n",
       "      <td>...</td>\n",
       "      <td>...</td>\n",
       "      <td>...</td>\n",
       "      <td>...</td>\n",
       "      <td>...</td>\n",
       "      <td>...</td>\n",
       "      <td>...</td>\n",
       "      <td>...</td>\n",
       "    </tr>\n",
       "    <tr>\n",
       "      <th>456</th>\n",
       "      <td>Car Parking Space</td>\n",
       "      <td>None</td>\n",
       "      <td>None</td>\n",
       "      <td>Parking</td>\n",
       "      <td>None</td>\n",
       "      <td>None</td>\n",
       "      <td>Semi Permanent</td>\n",
       "      <td>457</td>\n",
       "      <td>1.0</td>\n",
       "      <td>None</td>\n",
       "      <td>POLYGON ((34.59478 -0.00766, 34.59535 -0.00746...</td>\n",
       "    </tr>\n",
       "    <tr>\n",
       "      <th>457</th>\n",
       "      <td>None</td>\n",
       "      <td>None</td>\n",
       "      <td>None</td>\n",
       "      <td>None</td>\n",
       "      <td>None</td>\n",
       "      <td>None</td>\n",
       "      <td>None</td>\n",
       "      <td>458</td>\n",
       "      <td>1.0</td>\n",
       "      <td>None</td>\n",
       "      <td>POLYGON ((34.60690 -0.00581, 34.60697 -0.00562...</td>\n",
       "    </tr>\n",
       "    <tr>\n",
       "      <th>458</th>\n",
       "      <td>None</td>\n",
       "      <td>None</td>\n",
       "      <td>None</td>\n",
       "      <td>None</td>\n",
       "      <td>None</td>\n",
       "      <td>None</td>\n",
       "      <td>None</td>\n",
       "      <td>459</td>\n",
       "      <td>1.0</td>\n",
       "      <td>None</td>\n",
       "      <td>POLYGON ((34.60724 -0.00597, 34.60742 -0.00604...</td>\n",
       "    </tr>\n",
       "    <tr>\n",
       "      <th>459</th>\n",
       "      <td>None</td>\n",
       "      <td>None</td>\n",
       "      <td>None</td>\n",
       "      <td>None</td>\n",
       "      <td>None</td>\n",
       "      <td>None</td>\n",
       "      <td>None</td>\n",
       "      <td>460</td>\n",
       "      <td>1.0</td>\n",
       "      <td>None</td>\n",
       "      <td>POLYGON ((34.60674 -0.00632, 34.60718 -0.00645...</td>\n",
       "    </tr>\n",
       "    <tr>\n",
       "      <th>460</th>\n",
       "      <td>None</td>\n",
       "      <td>None</td>\n",
       "      <td>None</td>\n",
       "      <td>None</td>\n",
       "      <td>None</td>\n",
       "      <td>None</td>\n",
       "      <td>None</td>\n",
       "      <td>461</td>\n",
       "      <td>1.0</td>\n",
       "      <td>None</td>\n",
       "      <td>POLYGON ((34.60698 -0.00591, 34.60685 -0.00631...</td>\n",
       "    </tr>\n",
       "  </tbody>\n",
       "</table>\n",
       "<p>461 rows × 11 columns</p>\n",
       "</div>"
      ],
      "text/plain": [
       "                   Name Capacity  Structure              Use No_floors Rooms  \\\n",
       "0      New tution block     None  Permanent     Lecture Hall         4     0   \n",
       "1      Graduation  Shed     None  Permanent  Graduation Area         0     0   \n",
       "2             Washrooms     None  Permanent          Toilets         0     4   \n",
       "3    Shool of Education     None  Permanent          Offices         0     5   \n",
       "4                  None     None       None             None      None     0   \n",
       "..                  ...      ...        ...              ...       ...   ...   \n",
       "456   Car Parking Space     None       None          Parking      None  None   \n",
       "457                None     None       None             None      None  None   \n",
       "458                None     None       None             None      None  None   \n",
       "459                None     None       None             None      None  None   \n",
       "460                None     None       None             None      None  None   \n",
       "\n",
       "          Stracture  Fild_id   ff Area_km2  \\\n",
       "0              None        1  5.0     None   \n",
       "1              None        2  1.0     None   \n",
       "2              None        3  1.0     None   \n",
       "3              None        4  1.0     None   \n",
       "4              None        5  1.0     None   \n",
       "..              ...      ...  ...      ...   \n",
       "456  Semi Permanent      457  1.0     None   \n",
       "457            None      458  1.0     None   \n",
       "458            None      459  1.0     None   \n",
       "459            None      460  1.0     None   \n",
       "460            None      461  1.0     None   \n",
       "\n",
       "                                              geometry  \n",
       "0    POLYGON ((34.60320 -0.00584, 34.60339 -0.00591...  \n",
       "1    POLYGON ((34.60822 -0.00355, 34.60804 -0.00360...  \n",
       "2    POLYGON ((34.60821 -0.00367, 34.60809 -0.00370...  \n",
       "3    POLYGON ((34.60853 -0.00267, 34.60834 -0.00272...  \n",
       "4    POLYGON ((34.61018 -0.00212, 34.61017 -0.00228...  \n",
       "..                                                 ...  \n",
       "456  POLYGON ((34.59478 -0.00766, 34.59535 -0.00746...  \n",
       "457  POLYGON ((34.60690 -0.00581, 34.60697 -0.00562...  \n",
       "458  POLYGON ((34.60724 -0.00597, 34.60742 -0.00604...  \n",
       "459  POLYGON ((34.60674 -0.00632, 34.60718 -0.00645...  \n",
       "460  POLYGON ((34.60698 -0.00591, 34.60685 -0.00631...  \n",
       "\n",
       "[461 rows x 11 columns]"
      ]
     },
     "execution_count": 2,
     "metadata": {},
     "output_type": "execute_result"
    }
   ],
   "source": [
    "#Importing and displaying the spacial data\n",
    "gdf = gpd.read_file(r\"C:\\Users\\user\\Desktop\\New folder (3)\\maseno university geodata\\Merge_Buildings.dbf\")\n",
    "gdf"
   ]
  },
  {
   "cell_type": "code",
   "execution_count": 3,
   "id": "73216eb9",
   "metadata": {},
   "outputs": [
    {
     "data": {
      "text/plain": [
       "(461, 11)"
      ]
     },
     "execution_count": 3,
     "metadata": {},
     "output_type": "execute_result"
    }
   ],
   "source": [
    "#Knowing the number of columns and rows of the data\n",
    "gdf.shape"
   ]
  },
  {
   "cell_type": "code",
   "execution_count": 4,
   "id": "275deaa4",
   "metadata": {},
   "outputs": [
    {
     "data": {
      "text/plain": [
       "<AxesSubplot:>"
      ]
     },
     "execution_count": 4,
     "metadata": {},
     "output_type": "execute_result"
    },
    {
     "data": {
      "image/png": "[encoded data removed]",
      "text/plain": [
       "<Figure size 640x480 with 1 Axes>"
      ]
     },
     "metadata": {},
     "output_type": "display_data"
    }
   ],
   "source": [
    "#Plotting the data\n",
    "gdf.plot()"
   ]
  },
  {
   "cell_type": "code",
   "execution_count": 5,
   "id": "63783782",
   "metadata": {},
   "outputs": [
    {
     "data": {
      "text/html": [
       "<div>\n",
       "<style scoped>\n",
       "    .dataframe tbody tr th:only-of-type {\n",
       "        vertical-align: middle;\n",
       "    }\n",
       "\n",
       "    .dataframe tbody tr th {\n",
       "        vertical-align: top;\n",
       "    }\n",
       "\n",
       "    .dataframe thead th {\n",
       "        text-align: right;\n",
       "    }\n",
       "</style>\n",
       "<table border=\"1\" class=\"dataframe\">\n",
       "  <thead>\n",
       "    <tr style=\"text-align: right;\">\n",
       "      <th></th>\n",
       "      <th>Name</th>\n",
       "      <th>Capacity</th>\n",
       "      <th>Structure</th>\n",
       "      <th>Use</th>\n",
       "      <th>No_floors</th>\n",
       "      <th>Rooms</th>\n",
       "      <th>Stracture</th>\n",
       "      <th>Fild_id</th>\n",
       "      <th>ff</th>\n",
       "      <th>Area_km2</th>\n",
       "      <th>geometry</th>\n",
       "    </tr>\n",
       "  </thead>\n",
       "  <tbody>\n",
       "    <tr>\n",
       "      <th>0</th>\n",
       "      <td>New tution block</td>\n",
       "      <td>None</td>\n",
       "      <td>Permanent</td>\n",
       "      <td>Lecture Hall</td>\n",
       "      <td>4</td>\n",
       "      <td>0</td>\n",
       "      <td>None</td>\n",
       "      <td>1</td>\n",
       "      <td>5.0</td>\n",
       "      <td>None</td>\n",
       "      <td>POLYGON ((34.60320 -0.00584, 34.60339 -0.00591...</td>\n",
       "    </tr>\n",
       "  </tbody>\n",
       "</table>\n",
       "</div>"
      ],
      "text/plain": [
       "               Name Capacity  Structure           Use No_floors Rooms  \\\n",
       "0  New tution block     None  Permanent  Lecture Hall         4     0   \n",
       "\n",
       "  Stracture  Fild_id   ff Area_km2  \\\n",
       "0      None        1  5.0     None   \n",
       "\n",
       "                                            geometry  \n",
       "0  POLYGON ((34.60320 -0.00584, 34.60339 -0.00591...  "
      ]
     },
     "execution_count": 5,
     "metadata": {},
     "output_type": "execute_result"
    }
   ],
   "source": [
    "#Reading the first raw\n",
    "gdf.head(1)"
   ]
  },
  {
   "cell_type": "code",
   "execution_count": 6,
   "id": "75920c95",
   "metadata": {},
   "outputs": [
    {
     "data": {
      "text/html": [
       "<div>\n",
       "<style scoped>\n",
       "    .dataframe tbody tr th:only-of-type {\n",
       "        vertical-align: middle;\n",
       "    }\n",
       "\n",
       "    .dataframe tbody tr th {\n",
       "        vertical-align: top;\n",
       "    }\n",
       "\n",
       "    .dataframe thead th {\n",
       "        text-align: right;\n",
       "    }\n",
       "</style>\n",
       "<table border=\"1\" class=\"dataframe\">\n",
       "  <thead>\n",
       "    <tr style=\"text-align: right;\">\n",
       "      <th></th>\n",
       "      <th>Name</th>\n",
       "      <th>Capacity</th>\n",
       "      <th>Structure</th>\n",
       "      <th>Use</th>\n",
       "      <th>No_floors</th>\n",
       "      <th>Rooms</th>\n",
       "      <th>Stracture</th>\n",
       "      <th>Fild_id</th>\n",
       "      <th>ff</th>\n",
       "      <th>Area_km2</th>\n",
       "      <th>geometry</th>\n",
       "    </tr>\n",
       "  </thead>\n",
       "  <tbody>\n",
       "    <tr>\n",
       "      <th>101</th>\n",
       "      <td>EQ 8 Washrooms</td>\n",
       "      <td>None</td>\n",
       "      <td>Permanent</td>\n",
       "      <td>Toilets and Bathrooms</td>\n",
       "      <td>0</td>\n",
       "      <td>8</td>\n",
       "      <td>None</td>\n",
       "      <td>102</td>\n",
       "      <td>1.0</td>\n",
       "      <td>None</td>\n",
       "      <td>POLYGON ((34.60890 -0.00145, 34.60885 -0.00146...</td>\n",
       "    </tr>\n",
       "  </tbody>\n",
       "</table>\n",
       "</div>"
      ],
      "text/plain": [
       "               Name Capacity  Structure                    Use No_floors  \\\n",
       "101  EQ 8 Washrooms     None  Permanent  Toilets and Bathrooms         0   \n",
       "\n",
       "    Rooms Stracture  Fild_id   ff Area_km2  \\\n",
       "101     8      None      102  1.0     None   \n",
       "\n",
       "                                              geometry  \n",
       "101  POLYGON ((34.60890 -0.00145, 34.60885 -0.00146...  "
      ]
     },
     "execution_count": 6,
     "metadata": {},
     "output_type": "execute_result"
    }
   ],
   "source": [
    "gdf.sample()"
   ]
  },
  {
   "cell_type": "code",
   "execution_count": 7,
   "id": "38973c20",
   "metadata": {},
   "outputs": [
    {
     "data": {
      "text/plain": [
       "<AxesSubplot:>"
      ]
     },
     "execution_count": 7,
     "metadata": {},
     "output_type": "execute_result"
    },
    {
     "data": {
      "image/png": "[encoded data removed]",
      "text/plain": [
       "<Figure size 640x480 with 1 Axes>"
      ]
     },
     "metadata": {},
     "output_type": "display_data"
    }
   ],
   "source": [
    "#ploting a random row\n",
    "gdf.sample().plot()"
   ]
  },
  {
   "cell_type": "code",
   "execution_count": 11,
   "id": "4faf7d74",
   "metadata": {},
   "outputs": [
    {
     "data": {
      "text/plain": [
       "<AxesSubplot:>"
      ]
     },
     "execution_count": 11,
     "metadata": {},
     "output_type": "execute_result"
    },
    {
     "data": {
      "image/png": "[encoded data removed]",
      "text/plain": [
       "<Figure size 640x480 with 1 Axes>"
      ]
     },
     "metadata": {},
     "output_type": "display_data"
    }
   ],
   "source": [
    "#ploting a random row\n",
    "gdf.sample(2).plot()"
   ]
  },
  {
   "cell_type": "code",
   "execution_count": 12,
   "id": "81dcfcd8",
   "metadata": {},
   "outputs": [
    {
     "name": "stdout",
     "output_type": "stream",
     "text": [
      "<class 'geopandas.geodataframe.GeoDataFrame'>\n",
      "RangeIndex: 461 entries, 0 to 460\n",
      "Data columns (total 11 columns):\n",
      " #   Column     Non-Null Count  Dtype   \n",
      "---  ------     --------------  -----   \n",
      " 0   Name       361 non-null    object  \n",
      " 1   Capacity   50 non-null     object  \n",
      " 2   Structure  242 non-null    object  \n",
      " 3   Use        360 non-null    object  \n",
      " 4   No_floors  227 non-null    object  \n",
      " 5   Rooms      295 non-null    object  \n",
      " 6   Stracture  99 non-null     object  \n",
      " 7   Fild_id    461 non-null    int64   \n",
      " 8   ff         461 non-null    float64 \n",
      " 9   Area_km2   0 non-null      object  \n",
      " 10  geometry   461 non-null    geometry\n",
      "dtypes: float64(1), geometry(1), int64(1), object(8)\n",
      "memory usage: 39.7+ KB\n"
     ]
    }
   ],
   "source": [
    "#Look at columns null values and data types.\n",
    "gdf.info()\n"
   ]
  },
  {
   "cell_type": "code",
   "execution_count": 15,
   "id": "4dd96cc2",
   "metadata": {},
   "outputs": [
    {
     "data": {
      "text/plain": [
       "0    0\n",
       "1    0\n",
       "2    4\n",
       "3    5\n",
       "4    0\n",
       "Name: Rooms, dtype: object"
      ]
     },
     "execution_count": 15,
     "metadata": {},
     "output_type": "execute_result"
    }
   ],
   "source": [
    "gdf.    Rooms .head()"
   ]
  },
  {
   "cell_type": "code",
   "execution_count": 16,
   "id": "01e49554",
   "metadata": {},
   "outputs": [
    {
     "data": {
      "text/html": [
       "<div>\n",
       "<style scoped>\n",
       "    .dataframe tbody tr th:only-of-type {\n",
       "        vertical-align: middle;\n",
       "    }\n",
       "\n",
       "    .dataframe tbody tr th {\n",
       "        vertical-align: top;\n",
       "    }\n",
       "\n",
       "    .dataframe thead th {\n",
       "        text-align: right;\n",
       "    }\n",
       "</style>\n",
       "<table border=\"1\" class=\"dataframe\">\n",
       "  <thead>\n",
       "    <tr style=\"text-align: right;\">\n",
       "      <th></th>\n",
       "      <th>Name</th>\n",
       "      <th>Capacity</th>\n",
       "      <th>Structure</th>\n",
       "      <th>Use</th>\n",
       "      <th>No_floors</th>\n",
       "      <th>Rooms</th>\n",
       "      <th>Stracture</th>\n",
       "      <th>Fild_id</th>\n",
       "      <th>ff</th>\n",
       "      <th>Area_km2</th>\n",
       "      <th>geometry</th>\n",
       "    </tr>\n",
       "  </thead>\n",
       "  <tbody>\n",
       "    <tr>\n",
       "      <th>0</th>\n",
       "      <td>New tution block</td>\n",
       "      <td>None</td>\n",
       "      <td>Permanent</td>\n",
       "      <td>Lecture Hall</td>\n",
       "      <td>4</td>\n",
       "      <td>0</td>\n",
       "      <td>None</td>\n",
       "      <td>1</td>\n",
       "      <td>5.0</td>\n",
       "      <td>None</td>\n",
       "      <td>POLYGON ((34.60320 -0.00584, 34.60339 -0.00591...</td>\n",
       "    </tr>\n",
       "    <tr>\n",
       "      <th>2</th>\n",
       "      <td>Washrooms</td>\n",
       "      <td>None</td>\n",
       "      <td>Permanent</td>\n",
       "      <td>Toilets</td>\n",
       "      <td>0</td>\n",
       "      <td>4</td>\n",
       "      <td>None</td>\n",
       "      <td>3</td>\n",
       "      <td>1.0</td>\n",
       "      <td>None</td>\n",
       "      <td>POLYGON ((34.60821 -0.00367, 34.60809 -0.00370...</td>\n",
       "    </tr>\n",
       "    <tr>\n",
       "      <th>3</th>\n",
       "      <td>Shool of Education</td>\n",
       "      <td>None</td>\n",
       "      <td>Permanent</td>\n",
       "      <td>Offices</td>\n",
       "      <td>0</td>\n",
       "      <td>5</td>\n",
       "      <td>None</td>\n",
       "      <td>4</td>\n",
       "      <td>1.0</td>\n",
       "      <td>None</td>\n",
       "      <td>POLYGON ((34.60853 -0.00267, 34.60834 -0.00272...</td>\n",
       "    </tr>\n",
       "    <tr>\n",
       "      <th>4</th>\n",
       "      <td>None</td>\n",
       "      <td>None</td>\n",
       "      <td>None</td>\n",
       "      <td>None</td>\n",
       "      <td>None</td>\n",
       "      <td>0</td>\n",
       "      <td>None</td>\n",
       "      <td>5</td>\n",
       "      <td>1.0</td>\n",
       "      <td>None</td>\n",
       "      <td>POLYGON ((34.61018 -0.00212, 34.61017 -0.00228...</td>\n",
       "    </tr>\n",
       "    <tr>\n",
       "      <th>5</th>\n",
       "      <td>Makerere</td>\n",
       "      <td>None</td>\n",
       "      <td>Permanent</td>\n",
       "      <td>Student Hostels</td>\n",
       "      <td>0</td>\n",
       "      <td>0</td>\n",
       "      <td>None</td>\n",
       "      <td>6</td>\n",
       "      <td>1.0</td>\n",
       "      <td>None</td>\n",
       "      <td>POLYGON ((34.61089 -0.00530, 34.61073 -0.00556...</td>\n",
       "    </tr>\n",
       "    <tr>\n",
       "      <th>...</th>\n",
       "      <td>...</td>\n",
       "      <td>...</td>\n",
       "      <td>...</td>\n",
       "      <td>...</td>\n",
       "      <td>...</td>\n",
       "      <td>...</td>\n",
       "      <td>...</td>\n",
       "      <td>...</td>\n",
       "      <td>...</td>\n",
       "      <td>...</td>\n",
       "      <td>...</td>\n",
       "    </tr>\n",
       "    <tr>\n",
       "      <th>456</th>\n",
       "      <td>Car Parking Space</td>\n",
       "      <td>None</td>\n",
       "      <td>None</td>\n",
       "      <td>Parking</td>\n",
       "      <td>None</td>\n",
       "      <td>None</td>\n",
       "      <td>Semi Permanent</td>\n",
       "      <td>457</td>\n",
       "      <td>1.0</td>\n",
       "      <td>None</td>\n",
       "      <td>POLYGON ((34.59478 -0.00766, 34.59535 -0.00746...</td>\n",
       "    </tr>\n",
       "    <tr>\n",
       "      <th>457</th>\n",
       "      <td>None</td>\n",
       "      <td>None</td>\n",
       "      <td>None</td>\n",
       "      <td>None</td>\n",
       "      <td>None</td>\n",
       "      <td>None</td>\n",
       "      <td>None</td>\n",
       "      <td>458</td>\n",
       "      <td>1.0</td>\n",
       "      <td>None</td>\n",
       "      <td>POLYGON ((34.60690 -0.00581, 34.60697 -0.00562...</td>\n",
       "    </tr>\n",
       "    <tr>\n",
       "      <th>458</th>\n",
       "      <td>None</td>\n",
       "      <td>None</td>\n",
       "      <td>None</td>\n",
       "      <td>None</td>\n",
       "      <td>None</td>\n",
       "      <td>None</td>\n",
       "      <td>None</td>\n",
       "      <td>459</td>\n",
       "      <td>1.0</td>\n",
       "      <td>None</td>\n",
       "      <td>POLYGON ((34.60724 -0.00597, 34.60742 -0.00604...</td>\n",
       "    </tr>\n",
       "    <tr>\n",
       "      <th>459</th>\n",
       "      <td>None</td>\n",
       "      <td>None</td>\n",
       "      <td>None</td>\n",
       "      <td>None</td>\n",
       "      <td>None</td>\n",
       "      <td>None</td>\n",
       "      <td>None</td>\n",
       "      <td>460</td>\n",
       "      <td>1.0</td>\n",
       "      <td>None</td>\n",
       "      <td>POLYGON ((34.60674 -0.00632, 34.60718 -0.00645...</td>\n",
       "    </tr>\n",
       "    <tr>\n",
       "      <th>460</th>\n",
       "      <td>None</td>\n",
       "      <td>None</td>\n",
       "      <td>None</td>\n",
       "      <td>None</td>\n",
       "      <td>None</td>\n",
       "      <td>None</td>\n",
       "      <td>None</td>\n",
       "      <td>461</td>\n",
       "      <td>1.0</td>\n",
       "      <td>None</td>\n",
       "      <td>POLYGON ((34.60698 -0.00591, 34.60685 -0.00631...</td>\n",
       "    </tr>\n",
       "  </tbody>\n",
       "</table>\n",
       "<p>460 rows × 11 columns</p>\n",
       "</div>"
      ],
      "text/plain": [
       "                   Name Capacity  Structure              Use No_floors Rooms  \\\n",
       "0      New tution block     None  Permanent     Lecture Hall         4     0   \n",
       "2             Washrooms     None  Permanent          Toilets         0     4   \n",
       "3    Shool of Education     None  Permanent          Offices         0     5   \n",
       "4                  None     None       None             None      None     0   \n",
       "5              Makerere     None  Permanent  Student Hostels         0     0   \n",
       "..                  ...      ...        ...              ...       ...   ...   \n",
       "456   Car Parking Space     None       None          Parking      None  None   \n",
       "457                None     None       None             None      None  None   \n",
       "458                None     None       None             None      None  None   \n",
       "459                None     None       None             None      None  None   \n",
       "460                None     None       None             None      None  None   \n",
       "\n",
       "          Stracture  Fild_id   ff Area_km2  \\\n",
       "0              None        1  5.0     None   \n",
       "2              None        3  1.0     None   \n",
       "3              None        4  1.0     None   \n",
       "4              None        5  1.0     None   \n",
       "5              None        6  1.0     None   \n",
       "..              ...      ...  ...      ...   \n",
       "456  Semi Permanent      457  1.0     None   \n",
       "457            None      458  1.0     None   \n",
       "458            None      459  1.0     None   \n",
       "459            None      460  1.0     None   \n",
       "460            None      461  1.0     None   \n",
       "\n",
       "                                              geometry  \n",
       "0    POLYGON ((34.60320 -0.00584, 34.60339 -0.00591...  \n",
       "2    POLYGON ((34.60821 -0.00367, 34.60809 -0.00370...  \n",
       "3    POLYGON ((34.60853 -0.00267, 34.60834 -0.00272...  \n",
       "4    POLYGON ((34.61018 -0.00212, 34.61017 -0.00228...  \n",
       "5    POLYGON ((34.61089 -0.00530, 34.61073 -0.00556...  \n",
       "..                                                 ...  \n",
       "456  POLYGON ((34.59478 -0.00766, 34.59535 -0.00746...  \n",
       "457  POLYGON ((34.60690 -0.00581, 34.60697 -0.00562...  \n",
       "458  POLYGON ((34.60724 -0.00597, 34.60742 -0.00604...  \n",
       "459  POLYGON ((34.60674 -0.00632, 34.60718 -0.00645...  \n",
       "460  POLYGON ((34.60698 -0.00591, 34.60685 -0.00631...  \n",
       "\n",
       "[460 rows x 11 columns]"
      ]
     },
     "execution_count": 16,
     "metadata": {},
     "output_type": "execute_result"
    }
   ],
   "source": [
    "rrs = gdf.drop([1])\n",
    "rrs"
   ]
  },
  {
   "cell_type": "code",
   "execution_count": 20,
   "id": "5aca7fb2",
   "metadata": {},
   "outputs": [
    {
     "data": {
      "text/plain": [
       "1.086767895878525"
      ]
     },
     "execution_count": 20,
     "metadata": {},
     "output_type": "execute_result"
    }
   ],
   "source": [
    "#Getting mean \n",
    "gdf['ff'].mean()"
   ]
  },
  {
   "cell_type": "code",
   "execution_count": 22,
   "id": "f2e0c20d",
   "metadata": {},
   "outputs": [
    {
     "data": {
      "text/plain": [
       "1.0"
      ]
     },
     "execution_count": 22,
     "metadata": {},
     "output_type": "execute_result"
    }
   ],
   "source": [
    "#Getting medium\n",
    "gdf['ff'].median()"
   ]
  },
  {
   "cell_type": "code",
   "execution_count": 24,
   "id": "1ae37f68",
   "metadata": {},
   "outputs": [
    {
     "data": {
      "text/plain": [
       "0.40788234707332005"
      ]
     },
     "execution_count": 24,
     "metadata": {},
     "output_type": "execute_result"
    }
   ],
   "source": [
    "gdf['ff'].std()"
   ]
  },
  {
   "cell_type": "code",
   "execution_count": 25,
   "id": "3c16844f",
   "metadata": {},
   "outputs": [
    {
     "data": {
      "text/plain": [
       "count    461.000000\n",
       "mean       1.086768\n",
       "std        0.407882\n",
       "min        1.000000\n",
       "25%        1.000000\n",
       "50%        1.000000\n",
       "75%        1.000000\n",
       "max        5.000000\n",
       "Name: ff, dtype: float64"
      ]
     },
     "execution_count": 25,
     "metadata": {},
     "output_type": "execute_result"
    }
   ],
   "source": [
    "gdf['ff'].describe()"
   ]
  },
  {
   "cell_type": "code",
   "execution_count": 39,
   "id": "f0cfb400",
   "metadata": {},
   "outputs": [
    {
     "ename": "SyntaxError",
     "evalue": "positional argument follows keyword argument (906453959.py, line 1)",
     "output_type": "error",
     "traceback": [
      "\u001b[1;36m  File \u001b[1;32m\"C:\\Users\\user\\AppData\\Local\\Temp\\ipykernel_17044\\906453959.py\"\u001b[1;36m, line \u001b[1;32m1\u001b[0m\n\u001b[1;33m    gdf['ff'].plot.hist(figsize = (12,5),  title ='A BAR GRAPH',lable: ( x= 'numbers', y= 'values'))\u001b[0m\n\u001b[1;37m                                                                     ^\u001b[0m\n\u001b[1;31mSyntaxError\u001b[0m\u001b[1;31m:\u001b[0m positional argument follows keyword argument\n"
     ]
    }
   ],
   "source": [
    "gdf['ff'].plot.hist(figsize = (12,5),  title ='A BAR GRAPH',lable: ( x= 'numbers', y= 'values'))"
   ]
  },
  {
   "cell_type": "code",
   "execution_count": 27,
   "id": "cb5d8dce",
   "metadata": {},
   "outputs": [
    {
     "data": {
      "text/plain": [
       "<AxesSubplot:>"
      ]
     },
     "execution_count": 27,
     "metadata": {},
     "output_type": "execute_result"
    },
    {
     "data": {
      "image/png": "[encoded data removed]",
      "text/plain": [
       "<Figure size 640x480 with 1 Axes>"
      ]
     },
     "metadata": {},
     "output_type": "display_data"
    }
   ],
   "source": [
    "gdf['ff'].plot.bar()"
   ]
  },
  {
   "cell_type": "code",
   "execution_count": 40,
   "id": "32b905ba",
   "metadata": {},
   "outputs": [
    {
     "data": {
      "text/plain": [
       "2    0.25\n",
       "5    0.50\n",
       "3    0.75\n",
       "7    1.00\n",
       "dtype: float64"
      ]
     },
     "execution_count": 40,
     "metadata": {},
     "output_type": "execute_result"
    }
   ],
   "source": [
    "#using pandas to print series.\n",
    "data = pd.Series([0.25, 0.5, 0.75, 1.0],\n",
    "index=[2, 5, 3, 7])\n",
    "data"
   ]
  },
  {
   "cell_type": "code",
   "execution_count": 41,
   "id": "cc949c72",
   "metadata": {},
   "outputs": [
    {
     "data": {
      "text/plain": [
       "California    38332521\n",
       "Texas         26448193\n",
       "New York      19651127\n",
       "Florida       19552860\n",
       "Illinois      12882135\n",
       "dtype: int64"
      ]
     },
     "execution_count": 41,
     "metadata": {},
     "output_type": "execute_result"
    }
   ],
   "source": [
    "#making series from dictionary\n",
    "population_dict = {'California': 38332521,\n",
    "'Texas': 26448193,\n",
    "'New York': 19651127,\n",
    "'Florida': 19552860,\n",
    "'Illinois': 12882135}\n",
    "population = pd.Series(population_dict)\n",
    "population"
   ]
  },
  {
   "cell_type": "code",
   "execution_count": null,
   "id": "4adca380",
   "metadata": {},
   "outputs": [],
   "source": []
  }
 ],
 "metadata": {
  "kernelspec": {
   "display_name": "Python 3 (ipykernel)",
   "language": "python",
   "name": "python3"
  },
  "language_info": {
   "codemirror_mode": {
    "name": "ipython",
    "version": 3
   },
   "file_extension": ".py",
   "mimetype": "text/x-python",
   "name": "python",
   "nbconvert_exporter": "python",
   "pygments_lexer": "ipython3",
   "version": "3.9.13"
  }
 },
 "nbformat": 4,
 "nbformat_minor": 5
}
